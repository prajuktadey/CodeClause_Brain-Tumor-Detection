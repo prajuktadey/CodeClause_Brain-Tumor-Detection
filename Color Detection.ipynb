{
 "cells": [
  {
   "cell_type": "code",
   "execution_count": 2,
   "id": "d8e638d7",
   "metadata": {},
   "outputs": [],
   "source": [
    "import cv2\n",
    "import numpy as np\n",
    "\n",
    "# Load the image\n",
    "img = cv2.imread('pic1.jpg')\n",
    "\n",
    "# Convert the image to HSV color space\n",
    "hsv_img = cv2.cvtColor(img, cv2.COLOR_BGR2HSV)\n",
    "\n",
    "# Define the range of colors to detect (in this case, blue)\n",
    "lower_blue = np.array([110,50,50])\n",
    "upper_blue = np.array([130,255,255])\n",
    "\n",
    "# Create a mask based on the color range\n",
    "mask = cv2.inRange(hsv_img, lower_blue, upper_blue)\n",
    "\n",
    "# Apply the mask to the original image to extract the colored object\n",
    "result = cv2.bitwise_and(img, img, mask=mask)\n",
    "\n",
    "# Display the result\n",
    "cv2.imshow('Color Detection', result)\n",
    "cv2.waitKey(0)\n",
    "cv2.destroyAllWindows()\n"
   ]
  }
 ],
 "metadata": {
  "kernelspec": {
   "display_name": "Python 3 (ipykernel)",
   "language": "python",
   "name": "python3"
  },
  "language_info": {
   "codemirror_mode": {
    "name": "ipython",
    "version": 3
   },
   "file_extension": ".py",
   "mimetype": "text/x-python",
   "name": "python",
   "nbconvert_exporter": "python",
   "pygments_lexer": "ipython3",
   "version": "3.11.1"
  }
 },
 "nbformat": 4,
 "nbformat_minor": 5
}
